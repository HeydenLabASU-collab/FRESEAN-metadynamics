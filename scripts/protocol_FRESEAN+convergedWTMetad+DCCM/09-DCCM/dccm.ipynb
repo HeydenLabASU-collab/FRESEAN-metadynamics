{
 "cells": [
  {
   "cell_type": "code",
   "execution_count": null,
   "metadata": {},
   "outputs": [],
   "source": [
    "import MDAnalysis as mda\n",
    "import numpy as np\n",
    "import unwrap as pbc\n",
    "import align as fit\n",
    "from tqdm import *\n",
    "import matplotlib.pyplot as plt"
   ]
  },
  {
   "cell_type": "code",
   "execution_count": null,
   "metadata": {},
   "outputs": [],
   "source": [
    "nReplicas = 20\n",
    "temperatures = [300] * nReplicas"
   ]
  },
  {
   "cell_type": "code",
   "execution_count": null,
   "metadata": {},
   "outputs": [],
   "source": [
    "# specify input file names\n",
    "TOPOL = [f\"../07-metadyn/metadyn_{i}/metadyn_prot.tpr\" for i in range(nReplicas)]\n",
    "TRAJ = [f\"../07-metadyn/metadyn_{i}/metadyn_prot_pbc.trr\" for i in range(nReplicas)]\n",
    "WEIGHTS = [f\"../08-reweight/reweight_{i}/plumed-reweight-CV.out\" for i in range(nReplicas)]\n",
    "# specify output file names\n",
    "AVGCRD = [f\"prot_avg_replica-{i}.xyz\" for i in range(nReplicas)]\n",
    "AVGCRD_Ca = [f\"prot-Ca_avg_replica-{i}.xyz\" for i in range(nReplicas)]\n",
    "AVGCRD_all = \"prot_avg.xyz\"\n",
    "AVGCRD_Ca_all = \"prot-Ca_avg.xyz\"\n",
    "DCCM = [f\"dccm_replica-{i}.dat\" for i in range(nReplicas)]\n",
    "DCCM_all = \"dccm_avg.dat\""
   ]
  },
  {
   "cell_type": "code",
   "execution_count": null,
   "metadata": {},
   "outputs": [],
   "source": [
    "# create temporary universe to fix reference coordinates\n",
    "u = mda.Universe(TOPOL[0], TRAJ[0])\n",
    "ca = u.select_atoms(\"protein and name CA\")\n",
    "nRes = ca.n_atoms\n",
    "refPos = np.copy(ca.atoms.positions)"
   ]
  },
  {
   "cell_type": "code",
   "execution_count": null,
   "metadata": {},
   "outputs": [],
   "source": [
    "print(f'computing weighted average structures for each replica')\n",
    "for r in range(nReplicas):\n",
    "    print(f' -> replica {r+1}/{nReplicas}')\n",
    "    # Load the universe\n",
    "    u = mda.Universe(TOPOL[r], TRAJ[r])\n",
    "    # Select protein and C-alpha atoms\n",
    "    prot = u.select_atoms(\"protein\")\n",
    "    ca = u.select_atoms(\"protein and name CA\")\n",
    "    \n",
    "    # read weights\n",
    "    kbT = 0.0083145 * temperatures[r]\n",
    "    frameWeights = np.exp(np.loadtxt(WEIGHTS[r], comments=\"#\")[:,-1]/kbT)\n",
    "    sumWeights = np.sum(frameWeights)\n",
    "\n",
    "    # prepare unwrapping and alignment (if needed)\n",
    "    unwrap = pbc.unwrap(u)\n",
    "    # ensure that the reference coordinates are the same for all replicas\n",
    "    # before initializing alignment\n",
    "    ca.atoms.positions = refPos\n",
    "    align = fit.align(u,ca)\n",
    "\n",
    "    # array for (weighted) average positions\n",
    "    avgPos = np.zeros((prot.n_atoms,3))\n",
    "    frame = 0\n",
    "    # loop over trajectory frames\n",
    "    for ts in tqdm(u.trajectory):\n",
    "        unwrap.single_frame()\n",
    "        align.single_frame()\n",
    "        avgPos += frameWeights[frame] * prot.positions\n",
    "        frame += 1\n",
    "    avgPos /= sumWeights\n",
    "    # write average coordinates to file\n",
    "    prot.atoms.positions = avgPos\n",
    "    prot.write(AVGCRD[r], format=\"xyz\")\n",
    "    ca.write(AVGCRD_Ca[r], format=\"xyz\")"
   ]
  },
  {
   "cell_type": "code",
   "execution_count": null,
   "metadata": {},
   "outputs": [],
   "source": [
    "print(f'computing average structure for all replicas')\n",
    "# averaging over replicas\n",
    "avgPos = np.zeros((prot.n_atoms,3))\n",
    "for r in range(nReplicas):\n",
    "    # Load the universe\n",
    "    u = mda.Universe(AVGCRD[r], AVGCRD[r])\n",
    "    avgPos += u.atoms.positions\n",
    "avgPos /= nReplicas\n",
    "# write average coordinates to file\n",
    "u.atoms.positions = avgPos\n",
    "u.atoms.write(AVGCRD_all, format=\"xyz\")\n",
    "\n",
    "# averaging over replicas\n",
    "avgPos = np.zeros((ca.n_atoms,3))\n",
    "for r in range(nReplicas):\n",
    "    # Load the universe\n",
    "    u = mda.Universe(AVGCRD_Ca[r], AVGCRD_Ca[r])\n",
    "    avgPos += u.atoms.positions\n",
    "avgPos /= nReplicas\n",
    "# write average coordinates to file\n",
    "u.atoms.positions = avgPos\n",
    "u.atoms.write(AVGCRD_Ca_all, format=\"xyz\")"
   ]
  },
  {
   "cell_type": "code",
   "execution_count": null,
   "metadata": {},
   "outputs": [],
   "source": [
    "print(f'computing weighted dynamic cross correlation matrix (DCCM) for each replica')\n",
    "for r in range(nReplicas):\n",
    "    print(f' -> replica {r+1}/{nReplicas}')\n",
    "    # Load the universe\n",
    "    u = mda.Universe(TOPOL[r], TRAJ[r])\n",
    "    # Select C-alpha atoms\n",
    "    ca = u.select_atoms(\"protein and name CA\")\n",
    "\n",
    "    # read weights\n",
    "    kbT = 0.0083145 * temperatures[r]\n",
    "    frameWeights = np.exp(np.loadtxt(WEIGHTS[r], comments=\"#\")[:,-1]/kbT)\n",
    "    sumWeights = np.sum(frameWeights)\n",
    "\n",
    "    # prepare unwrapping and alignment (if needed)\n",
    "    unwrap = pbc.unwrap(u)\n",
    "    # ensure that the reference coordinates are the same for all replicas\n",
    "    # before initializing alignment\n",
    "    ca.atoms.positions = refPos\n",
    "    align = fit.align(u,ca)\n",
    "\n",
    "    # array for DCCM matrix and squared displacements\n",
    "    dccm = np.zeros((nRes, nRes))\n",
    "    sqDisp = np.zeros(nRes)\n",
    "    frame = 0\n",
    "    # loop over trajectory frames\n",
    "    for ts in tqdm(u.trajectory):\n",
    "        unwrap.single_frame()\n",
    "        align.single_frame()\n",
    "        # compute DCCM\n",
    "        disp = ca.atoms.positions - avgPos\n",
    "        sqDisp += frameWeights[frame] * np.sum(disp**2, axis=1)\n",
    "        dccm += frameWeights[frame] * np.dot(disp, disp.T)\n",
    "        frame += 1\n",
    "    sqDisp /= sumWeights\n",
    "    roots = np.sqrt(sqDisp)\n",
    "    for i in range(nRes):\n",
    "        dccm[i,:] /= roots[i]\n",
    "        dccm[:,i] /= roots[i]\n",
    "    dccm /= sumWeights\n",
    "    # write DCCM to file\n",
    "    np.savetxt(DCCM[r], dccm, fmt=\"%10.4f\", delimiter=\",\")\n",
    "\n",
    "print(f'computing average DCCM for all replicas')\n",
    "avgDCCM = np.zeros((nRes, nRes))\n",
    "for r in range(nReplicas):\n",
    "    avgDCCM += np.loadtxt(DCCM[r], delimiter=\",\")\n",
    "avgDCCM /= nReplicas\n",
    "# write average DCCM to file\n",
    "np.savetxt(DCCM_all, avgDCCM, fmt=\"%10.4f\", delimiter=\",\")"
   ]
  },
  {
   "cell_type": "code",
   "execution_count": null,
   "metadata": {},
   "outputs": [],
   "source": [
    "dccm = np.loadtxt(DCCM_all, delimiter=\",\")"
   ]
  },
  {
   "cell_type": "code",
   "execution_count": null,
   "metadata": {},
   "outputs": [],
   "source": [
    "u = mda.Universe(TOPOL[0])\n",
    "# Select C-alpha atoms\n",
    "ca = u.select_atoms(\"protein and name CA\")"
   ]
  },
  {
   "cell_type": "code",
   "execution_count": null,
   "metadata": {},
   "outputs": [],
   "source": [
    "plt.figure(figsize=(8, 6))\n",
    "im = plt.imshow(dccm, cmap='bwr', vmin=-1, vmax=1)\n",
    "plt.gca().invert_yaxis()\n",
    "plt.colorbar(im, label='Correlation')\n",
    "plt.title('Dynamic Cross Correlation Matrix (DCCM)')\n",
    "plt.xlabel('Residue Index')\n",
    "plt.ylabel('Residue Index')\n",
    "plt.tight_layout()\n",
    "plt.savefig(\"dccm.png\", dpi=300)"
   ]
  },
  {
   "cell_type": "code",
   "execution_count": null,
   "metadata": {},
   "outputs": [],
   "source": [
    "pair1 = np.unravel_index(np.argmin(dccm), dccm.shape)\n",
    "col0 = np.abs(dccm[:, pair1[0]])\n",
    "col1 = np.abs(dccm[:, pair1[1]])\n",
    "least_correlated = np.argmin(col0 + col1)\n",
    "anti_correlated = np.argmin(dccm[:, least_correlated])\n",
    "pair2=[least_correlated, anti_correlated]"
   ]
  },
  {
   "cell_type": "code",
   "execution_count": null,
   "metadata": {},
   "outputs": [],
   "source": [
    "domain1 = ca.atoms.indices[np.where(dccm[pair1[0]] > 0.5)[0]]\n",
    "domain2 = ca.atoms.indices[np.where(dccm[pair1[1]] > 0.5)[0]]\n",
    "domain3 = ca.atoms.indices[np.where(dccm[pair2[0]] > 0.5)[0]]\n",
    "domain4 = ca.atoms.indices[np.where(dccm[pair2[1]] > 0.5)[0]]"
   ]
  },
  {
   "cell_type": "code",
   "execution_count": null,
   "metadata": {},
   "outputs": [],
   "source": [
    "plt.figure(figsize=(8,5))\n",
    "x = np.arange(dccm.shape[1])\n",
    "y1 = dccm[pair1[0]]\n",
    "y2 = dccm[pair1[1]]\n",
    "\n",
    "plt.plot(x, y1, marker='o', markersize=3, color='blue', label=f'DCCM row {pair1[0]+1}')\n",
    "plt.plot(x, y2, marker='o', markersize=3, color='red', label=f'DCCM row {pair1[1]+1}')\n",
    "\n",
    "# Fill area above y=0.5 for y1\n",
    "plt.fill_between(x, 0.5, y1, where=(y1 > 0.5), color='blue', alpha=0.3)\n",
    "# Fill area above y=0.5 for y2\n",
    "plt.fill_between(x, 0.5, y2, where=(y2 > 0.5), color='red', alpha=0.3)\n",
    "\n",
    "plt.xlabel('Residue Index')\n",
    "plt.ylabel('Correlation')\n",
    "plt.title('row-wise correlation')\n",
    "plt.grid(True)\n",
    "plt.legend(loc='center', bbox_to_anchor=(0.7, 0.1))\n",
    "plt.xlim(x.min(), x.max())\n",
    "plt.ylim(-0.75, 1.0)\n",
    "plt.tight_layout()\n",
    "plt.savefig(\"pair1.png\", dpi=300)"
   ]
  },
  {
   "cell_type": "code",
   "execution_count": null,
   "metadata": {},
   "outputs": [],
   "source": [
    "plt.figure(figsize=(8,5))\n",
    "x = np.arange(dccm.shape[1])\n",
    "y1 = dccm[pair2[0]]\n",
    "y2 = dccm[pair2[1]]\n",
    "\n",
    "plt.plot(x, y1, marker='o', markersize=3, color='blue', label=f'DCCM row {pair2[0]+1}')\n",
    "plt.plot(x, y2, marker='o', markersize=3, color='red', label=f'DCCM row {pair2[1]+1}')\n",
    "\n",
    "# Fill area above y=0.5 for y1\n",
    "plt.fill_between(x, 0.5, y1, where=(y1 > 0.5), color='blue', alpha=0.3)\n",
    "# Fill area above y=0.5 for y2\n",
    "plt.fill_between(x, 0.5, y2, where=(y2 > 0.5), color='red', alpha=0.3)\n",
    "\n",
    "plt.xlabel('Residue Index')\n",
    "plt.ylabel('Correlation')\n",
    "plt.title('row-wise correlation')\n",
    "plt.grid(True)\n",
    "plt.legend(loc='center', bbox_to_anchor=(0.7, 0.1))\n",
    "plt.xlim(x.min(), x.max())\n",
    "plt.ylim(-0.75, 1.0)\n",
    "plt.tight_layout()\n",
    "plt.savefig(\"pair2.png\", dpi=300)"
   ]
  },
  {
   "cell_type": "code",
   "execution_count": null,
   "metadata": {},
   "outputs": [],
   "source": [
    "def generate_plumed_distance_input(domain1, domain2, domain3, domain4):\n",
    "    # Convert to 1-based indexing for PLUMED\n",
    "    group1_indices = \",\".join(str(i+1) for i in domain1)\n",
    "    group2_indices = \",\".join(str(i+1) for i in domain2)\n",
    "    group3_indices = \",\".join(str(i+1) for i in domain3)\n",
    "    group4_indices = \",\".join(str(i+1) for i in domain4)\n",
    "    plumed_input = (\n",
    "        \"#Reference file containing eigenvectors\\n\"\n",
    "        \"PCAVARS REFERENCE=plumed-mode-input.pdb TYPE=OPTIMAL LABEL=pca\\n\"\n",
    "        \"\\n\"\n",
    "        \"# Go through metadynamics trajectory and get the weight every frame\\n\"\n",
    "        \"METAD ...\\n\"\n",
    "        \"LABEL=metad\\n\"\n",
    "        \"ARG=pca.eig-1,pca.eig-2\\n\"\n",
    "        \"PACE=10000\\n\"\n",
    "        \"HEIGHT=0.0\\n\"\n",
    "        \"BIASFACTOR=10\\n\"\n",
    "        \"SIGMA=0.001,0.001\\n\"\n",
    "        \"FILE=plumed-mode-metadyn.hills\\n\"\n",
    "        \"TEMP=300.0\\n\"\n",
    "        \"RESTART=YES\\n\"\n",
    "        \"... METAD\\n\"\n",
    "        \"\\n\"\n",
    "        f\"g1 : COM ATOMS={group1_indices}\\n\"\n",
    "        f\"g2 : COM ATOMS={group2_indices}\\n\"\n",
    "        \"d1: DISTANCE ATOMS=g1,g2\\n\"\n",
    "        \"\\n\"\n",
    "        f\"g3 : COM ATOMS={group3_indices}\\n\"\n",
    "        f\"g4 : COM ATOMS={group4_indices}\\n\"\n",
    "        \"d2: DISTANCE ATOMS=g3,g4\\n\"\n",
    "        \"\\n\"\n",
    "        \"# Print each of the desired quantities to a file. Can manually reweight.\\n\"\n",
    "        \"# Weight of frame i is given by w_i proportional to exp(V/kT). V is given in the reweight file as metad.bias.\\n\"\n",
    "        \"PRINT ARG=pca.eig-1,pca.eig-2,d1,d2,pca.residual,metad.bias FILE=plumed-reweight-CV.out STRIDE=1\\n\"\n",
    "    )\n",
    "    with open(\"plumed-reweight-CV.dat\", \"w\") as f:\n",
    "        f.write(plumed_input)"
   ]
  },
  {
   "cell_type": "code",
   "execution_count": null,
   "metadata": {},
   "outputs": [],
   "source": [
    "generate_plumed_distance_input(domain1, domain2, domain3, domain4)"
   ]
  }
 ],
 "metadata": {
  "kernelspec": {
   "display_name": "mda",
   "language": "python",
   "name": "python3"
  },
  "language_info": {
   "codemirror_mode": {
    "name": "ipython",
    "version": 3
   },
   "file_extension": ".py",
   "mimetype": "text/x-python",
   "name": "python",
   "nbconvert_exporter": "python",
   "pygments_lexer": "ipython3",
   "version": "3.12.2"
  }
 },
 "nbformat": 4,
 "nbformat_minor": 2
}
